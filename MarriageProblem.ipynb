{
 "cells": [
  {
   "cell_type": "code",
   "execution_count": 232,
   "metadata": {},
   "outputs": [
    {
     "name": "stdout",
     "output_type": "stream",
     "text": [
      "\n",
      "Engagements:\n",
      "  abe and abi\n",
      "  bob and cath\n",
      "  col and hope\n",
      "  dan and ivy\n",
      "  ed and jan\n",
      "  fred and bea\n",
      "  gav and gay\n",
      "  hope dumped col for ian\n",
      "  abi dumped abe for jon\n",
      "  hal and eve\n",
      "  col and dee\n",
      "  ivy dumped dan for abe\n",
      "  dan and fay\n",
      "\n",
      "Couples:\n",
      "  abi is engaged to jon,\n",
      "  bea is engaged to fred,\n",
      "  cath is engaged to bob,\n",
      "  dee is engaged to col,\n",
      "  eve is engaged to hal,\n",
      "  fay is engaged to dan,\n",
      "  gay is engaged to gav,\n",
      "  hope is engaged to ian,\n",
      "  ivy is engaged to abe,\n",
      "  jan is engaged to ed\n",
      "\n",
      "Engagement stability check PASSED\n",
      "\n",
      "\n",
      "Swapping two fiances to introduce an error\n",
      "  abi is now engaged to fred\n",
      "  bea is now engaged to jon\n",
      "\n",
      "fred and bea like each other better than their present partners: abi and jon, respectively\n",
      "Engagement stability check FAILED\n"
     ]
    }
   ],
   "source": [
    "import copy\n",
    " \n",
    "guyprefers = {\n",
    " 'abe':  ['abi', 'eve', 'cath', 'ivy', 'jan', 'dee', 'fay', 'bea', 'hope', 'gay'],\n",
    " 'bob':  ['cath', 'hope', 'abi', 'dee', 'eve', 'fay', 'bea', 'jan', 'ivy', 'gay'],\n",
    " 'col':  ['hope', 'eve', 'abi', 'dee', 'bea', 'fay', 'ivy', 'gay', 'cath', 'jan'],\n",
    " 'dan':  ['ivy', 'fay', 'dee', 'gay', 'hope', 'eve', 'jan', 'bea', 'cath', 'abi'],\n",
    " 'ed':   ['jan', 'dee', 'bea', 'cath', 'fay', 'eve', 'abi', 'ivy', 'hope', 'gay'],\n",
    " 'fred': ['bea', 'abi', 'dee', 'gay', 'eve', 'ivy', 'cath', 'jan', 'hope', 'fay'],\n",
    " 'gav':  ['gay', 'eve', 'ivy', 'bea', 'cath', 'abi', 'dee', 'hope', 'jan', 'fay'],\n",
    " 'hal':  ['abi', 'eve', 'hope', 'fay', 'ivy', 'cath', 'jan', 'bea', 'gay', 'dee'],\n",
    " 'ian':  ['hope', 'cath', 'dee', 'gay', 'bea', 'abi', 'fay', 'ivy', 'jan', 'eve'],\n",
    " 'jon':  ['abi', 'fay', 'jan', 'gay', 'eve', 'bea', 'dee', 'cath', 'ivy', 'hope']}\n",
    "galprefers = {\n",
    " 'abi':  ['bob', 'fred', 'jon', 'gav', 'ian', 'abe', 'dan', 'ed', 'col', 'hal'],\n",
    " 'bea':  ['bob', 'abe', 'col', 'fred', 'gav', 'dan', 'ian', 'ed', 'jon', 'hal'],\n",
    " 'cath': ['fred', 'bob', 'ed', 'gav', 'hal', 'col', 'ian', 'abe', 'dan', 'jon'],\n",
    " 'dee':  ['fred', 'jon', 'col', 'abe', 'ian', 'hal', 'gav', 'dan', 'bob', 'ed'],\n",
    " 'eve':  ['jon', 'hal', 'fred', 'dan', 'abe', 'gav', 'col', 'ed', 'ian', 'bob'],\n",
    " 'fay':  ['bob', 'abe', 'ed', 'ian', 'jon', 'dan', 'fred', 'gav', 'col', 'hal'],\n",
    " 'gay':  ['jon', 'gav', 'hal', 'fred', 'bob', 'abe', 'col', 'ed', 'dan', 'ian'],\n",
    " 'hope': ['gav', 'jon', 'bob', 'abe', 'ian', 'dan', 'hal', 'ed', 'col', 'fred'],\n",
    " 'ivy':  ['ian', 'col', 'hal', 'gav', 'fred', 'bob', 'abe', 'ed', 'jon', 'dan'],\n",
    " 'jan':  ['ed', 'hal', 'gav', 'abe', 'bob', 'jon', 'col', 'ian', 'fred', 'dan']}\n",
    " \n",
    "guys = sorted(guyprefers.keys())\n",
    "gals = sorted(galprefers.keys())\n",
    " \n",
    " \n",
    "def check(engaged):\n",
    "    inverseengaged = dict((v,k) for k,v in engaged.items())\n",
    "    for she, he in engaged.items():\n",
    "        shelikes = galprefers[she]\n",
    "        shelikesbetter = shelikes[:shelikes.index(he)]\n",
    "        helikes = guyprefers[he]\n",
    "        helikesbetter = helikes[:helikes.index(she)]\n",
    "        for guy in shelikesbetter:\n",
    "            guysgirl = inverseengaged[guy]\n",
    "            guylikes = guyprefers[guy]\n",
    "            if guylikes.index(guysgirl) > guylikes.index(she):\n",
    "                print(\"%s and %s like each other better than \"\n",
    "                      \"their present partners: %s and %s, respectively\"\n",
    "                      % (she, guy, he, guysgirl))\n",
    "                return False\n",
    "        for gal in helikesbetter:\n",
    "            girlsguy = engaged[gal]\n",
    "            gallikes = galprefers[gal]\n",
    "            if gallikes.index(girlsguy) > gallikes.index(he):\n",
    "                print(\"%s and %s like each other better than \"\n",
    "                      \"their present partners: %s and %s, respectively\"\n",
    "                      % (he, gal, she, girlsguy))\n",
    "                return False\n",
    "    return True\n",
    " \n",
    "def matchmaker():\n",
    "    guysfree = guys[:]\n",
    "    engaged  = {}\n",
    "    guyprefers2 = copy.deepcopy(guyprefers)\n",
    "    galprefers2 = copy.deepcopy(galprefers)\n",
    "    while guysfree:\n",
    "        guy = guysfree.pop(0)\n",
    "        guyslist = guyprefers2[guy]\n",
    "        gal = guyslist.pop(0)\n",
    "        fiance = engaged.get(gal)\n",
    "        if not fiance:\n",
    "            # She's free\n",
    "            engaged[gal] = guy\n",
    "            print(\"  %s and %s\" % (guy, gal))\n",
    "        else:\n",
    "            # The bounder proposes to an engaged lass!\n",
    "            galslist = galprefers2[gal]\n",
    "            if galslist.index(fiance) > galslist.index(guy):\n",
    "                # She prefers new guy\n",
    "                engaged[gal] = guy\n",
    "                print(\"  %s dumped %s for %s\" % (gal, fiance, guy))\n",
    "                if guyprefers2[fiance]:\n",
    "                    # Ex has more girls to try\n",
    "                    guysfree.append(fiance)\n",
    "            else:\n",
    "                # She is faithful to old fiance\n",
    "                if guyslist:\n",
    "                    # Look again\n",
    "                    guysfree.append(guy)\n",
    "    return engaged\n",
    " \n",
    " \n",
    "print('\\nEngagements:')\n",
    "engaged = matchmaker()\n",
    " \n",
    "print('\\nCouples:')\n",
    "print('  ' + ',\\n  '.join('%s is engaged to %s' % couple\n",
    "                          for couple in sorted(engaged.items())))\n",
    "print()\n",
    "print('Engagement stability check PASSED'\n",
    "      if check(engaged) else 'Engagement stability check FAILED')\n",
    " \n",
    "print('\\n\\nSwapping two fiances to introduce an error')\n",
    "engaged[gals[0]], engaged[gals[1]] = engaged[gals[1]], engaged[gals[0]]\n",
    "for gal in gals[:2]:\n",
    "    print('  %s is now engaged to %s' % (gal, engaged[gal]))\n",
    "print()\n",
    "print('Engagement stability check PASSED'\n",
    "      if check(engaged) else 'Engagement stability check FAILED')"
   ]
  },
  {
   "cell_type": "code",
   "execution_count": 243,
   "metadata": {},
   "outputs": [],
   "source": [
    "import xlrd\n",
    "import csv\n",
    "\n",
    "def csv_from_excel():\n",
    "    wb = xlrd.open_workbook('Hackathon Dummy Data.xlsx')\n",
    "    sh = wb.sheet_by_name('Grad Preferences')\n",
    "    your_csv_file = open('Grad.csv', 'w')\n",
    "    wr = csv.writer(your_csv_file, quoting=csv.QUOTE_ALL)\n",
    "\n",
    "    for rownum in range(sh.nrows):\n",
    "        wr.writerow(sh.row_values(rownum))\n",
    "\n",
    "    your_csv_file.close()\n",
    "\n",
    "# runs the csv_from_excel function:\n",
    "csv_from_excel()"
   ]
  },
  {
   "cell_type": "code",
   "execution_count": 244,
   "metadata": {},
   "outputs": [
    {
     "data": {
      "text/html": [
       "<div>\n",
       "<style scoped>\n",
       "    .dataframe tbody tr th:only-of-type {\n",
       "        vertical-align: middle;\n",
       "    }\n",
       "\n",
       "    .dataframe tbody tr th {\n",
       "        vertical-align: top;\n",
       "    }\n",
       "\n",
       "    .dataframe thead th {\n",
       "        text-align: right;\n",
       "    }\n",
       "</style>\n",
       "<table border=\"1\" class=\"dataframe\">\n",
       "  <thead>\n",
       "    <tr style=\"text-align: right;\">\n",
       "      <th></th>\n",
       "      <th>Teams</th>\n",
       "      <th>Grad Preference 1</th>\n",
       "      <th>Grad Preference 2</th>\n",
       "      <th>Grad Preference 3</th>\n",
       "      <th>Grad Preference 4</th>\n",
       "      <th>Grad Preference 5</th>\n",
       "      <th>Skill #1</th>\n",
       "      <th>Skill #2</th>\n",
       "      <th>Skill #3</th>\n",
       "    </tr>\n",
       "  </thead>\n",
       "  <tbody>\n",
       "    <tr>\n",
       "      <th>0</th>\n",
       "      <td>Post Trading Technology</td>\n",
       "      <td>Danyal Schofield</td>\n",
       "      <td>Ruth Holder</td>\n",
       "      <td>NaN</td>\n",
       "      <td>NaN</td>\n",
       "      <td>NaN</td>\n",
       "      <td>C#</td>\n",
       "      <td>SQL</td>\n",
       "      <td>NaN</td>\n",
       "    </tr>\n",
       "    <tr>\n",
       "      <th>1</th>\n",
       "      <td>Core Trading Technology</td>\n",
       "      <td>Chanel Leech</td>\n",
       "      <td>Chelsey Magana</td>\n",
       "      <td>Shiv Rosas</td>\n",
       "      <td>Briana Glass</td>\n",
       "      <td>NaN</td>\n",
       "      <td>NaN</td>\n",
       "      <td>NaN</td>\n",
       "      <td>NaN</td>\n",
       "    </tr>\n",
       "    <tr>\n",
       "      <th>2</th>\n",
       "      <td>Legal Software Architecture</td>\n",
       "      <td>Amy-Louise Conroy</td>\n",
       "      <td>Karson Waller</td>\n",
       "      <td>Melody Cook</td>\n",
       "      <td>Caitlin Browning</td>\n",
       "      <td>NaN</td>\n",
       "      <td>NaN</td>\n",
       "      <td>NaN</td>\n",
       "      <td>NaN</td>\n",
       "    </tr>\n",
       "    <tr>\n",
       "      <th>3</th>\n",
       "      <td>GTB: Trade Finance</td>\n",
       "      <td>Syed Thompson</td>\n",
       "      <td>Arissa Mcmillan</td>\n",
       "      <td>Willem Mcgill</td>\n",
       "      <td>Chanel Leech</td>\n",
       "      <td>NaN</td>\n",
       "      <td>Java</td>\n",
       "      <td>NaN</td>\n",
       "      <td>NaN</td>\n",
       "    </tr>\n",
       "    <tr>\n",
       "      <th>4</th>\n",
       "      <td>abFX Technology</td>\n",
       "      <td>Danny Connelly</td>\n",
       "      <td>Marlon Osborn</td>\n",
       "      <td>Tristan Hanna</td>\n",
       "      <td>Chelsey Magana</td>\n",
       "      <td>NaN</td>\n",
       "      <td>Java</td>\n",
       "      <td>NaN</td>\n",
       "      <td>NaN</td>\n",
       "    </tr>\n",
       "  </tbody>\n",
       "</table>\n",
       "</div>"
      ],
      "text/plain": [
       "                         Teams  Grad Preference 1 Grad Preference 2  \\\n",
       "0      Post Trading Technology   Danyal Schofield       Ruth Holder   \n",
       "1      Core Trading Technology       Chanel Leech    Chelsey Magana   \n",
       "2  Legal Software Architecture  Amy-Louise Conroy     Karson Waller   \n",
       "3           GTB: Trade Finance      Syed Thompson   Arissa Mcmillan   \n",
       "4              abFX Technology     Danny Connelly     Marlon Osborn   \n",
       "\n",
       "  Grad Preference 3 Grad Preference 4 Grad Preference 5 Skill #1 Skill #2   \\\n",
       "0               NaN               NaN               NaN       C#       SQL   \n",
       "1        Shiv Rosas      Briana Glass               NaN      NaN       NaN   \n",
       "2       Melody Cook  Caitlin Browning               NaN      NaN       NaN   \n",
       "3     Willem Mcgill      Chanel Leech               NaN     Java       NaN   \n",
       "4     Tristan Hanna    Chelsey Magana               NaN     Java       NaN   \n",
       "\n",
       "  Skill #3  \n",
       "0      NaN  \n",
       "1      NaN  \n",
       "2      NaN  \n",
       "3      NaN  \n",
       "4      NaN  "
      ]
     },
     "execution_count": 244,
     "metadata": {},
     "output_type": "execute_result"
    }
   ],
   "source": [
    "import pandas as pd\n",
    "grad = pd.read_csv(\"Grad.csv\")\n",
    "team = pd.read_csv(\"Team.csv\")\n",
    "team.head()"
   ]
  },
  {
   "cell_type": "code",
   "execution_count": 245,
   "metadata": {},
   "outputs": [],
   "source": [
    "grad_preferences = {}\n",
    "for index, row in grad.iterrows():\n",
    "    values = []\n",
    "    values.append(row['Team Preference 1'])\n",
    "    values.append(row['Team Preference 2'])\n",
    "    values.append(row['Team Preference 3'])\n",
    "    values.append(row['Team Preference 4'])\n",
    "    values.append(row['Team Preference 5'])\n",
    "    grad_preferences[row['Graduates']] = values\n",
    "    \n",
    "team_preferences = {}\n",
    "for index, row in team.iterrows():\n",
    "    values = []\n",
    "    values.append(row['Grad Preference 1'])\n",
    "    values.append(row['Grad Preference 2'])\n",
    "    values.append(row['Grad Preference 3'])\n",
    "    values.append(row['Grad Preference 4'])\n",
    "    values.append(row['Grad Preference 5'])\n",
    "    team_preferences[row['Teams']] = values"
   ]
  },
  {
   "cell_type": "code",
   "execution_count": 246,
   "metadata": {},
   "outputs": [],
   "source": [
    "data = {'Grads' : grad['Graduates']}\n",
    "matrix = pd.DataFrame(data)\n",
    "teamList = list(team['Teams'])\n",
    "for i in range(0,len(teamList)):\n",
    "    matrix[teamList[i]] = \"\""
   ]
  },
  {
   "cell_type": "code",
   "execution_count": 309,
   "metadata": {},
   "outputs": [],
   "source": [
    "for i, row in matrix.iterrows():\n",
    "    gradName = row['Grads']\n",
    "#     print(teamList)\n",
    "    gradPreferences = grad_preferences[row['Grads']]\n",
    "    for i in range(0,len(gradPreferences)):\n",
    "        if gradPreferences[i] in teamList:\n",
    "#             print(gradPreferences[i])\n",
    "            row[gradPreferences[i]] = i + 1 \n",
    "#         print(\"-\")\n",
    "        \n",
    "#         if gradPreferences[i] in teamList:\n",
    "#             row[gradPreferences] = i\n",
    "\n",
    "matrix.to_csv('Matrix.csv')"
   ]
  },
  {
   "cell_type": "code",
   "execution_count": 310,
   "metadata": {},
   "outputs": [
    {
     "data": {
      "text/plain": [
       "{'Danyal Schofield': 'Stategic Analytics',\n",
       " 'Chanel Leech': 'Post Trading Technology',\n",
       " 'Amy-Louise Conroy': 'Core Trading Technology',\n",
       " 'Syed Thompson': 'Legal Software Architecture',\n",
       " 'Danny Connelly': 'GTB: Trade Finance',\n",
       " 'Mia Morley': 'abFX Technology',\n",
       " 'Briana Glass': 'FX Risk Technology',\n",
       " 'Shiv Rosas': 'GTB Technology Surveillance',\n",
       " 'Melody Cook': 'Financial Spreading Automation',\n",
       " 'Willem Mcgill': 'Enterprise Risk Technology',\n",
       " 'Tristan Hanna': 'Sales, Origination & Advisory Information Technology',\n",
       " 'Annabella Crawford': 'Stategic Analytics',\n",
       " 'Florrie Thornton': 'FlowRisk',\n",
       " 'Yolanda Tyson': 'CIB Tech: Data',\n",
       " 'Caitlin Browning': 'GTB Instant Payments',\n",
       " 'Everly Holman': 'GTB Instant Payments',\n",
       " 'Ruth Holder': 'Mercury Team',\n",
       " 'Chelsey Magana': 'Looking Glass',\n",
       " 'Karson Waller': 'Operations Automation',\n",
       " 'Arissa Mcmillan': 'CCNG',\n",
       " 'Marlon Osborn': 'DbSyndicate',\n",
       " 'Courtnie Barker': 'Fixed Income & Currencies Technology',\n",
       " 'Mathias Becker': 'Distribution Technology',\n",
       " 'Rio Wilkinson': 'Equity Strats',\n",
       " 'Vishal Logan': 'Finance & Loan Agency',\n",
       " 'Lauren Chang': 'GTB Instant Payments',\n",
       " 'Alex Hulme': 'Ratings Advisory Technology',\n",
       " 'Aiza Currie': 'GT Production',\n",
       " 'Maryam Lennon': 'Test Delivery ',\n",
       " 'Ivan Nixon': 'GTO - Data Solutions & Knowledge Visualisation',\n",
       " 'Lesley West': 'Trade Finance Deal Management',\n",
       " 'Aida Curran': 'Cash Management Technology',\n",
       " 'Presley Sargent': 'CIB Regulatory Adherence ',\n",
       " 'Anjali Bowden': 'HR Digital Development ',\n",
       " 'Derrick Sadler': 'Finance - GVG',\n",
       " 'Nabilah Miles': 'End User Production',\n",
       " 'Jarod Arias': 'Vulnerability & Compliance Remediation '}"
      ]
     },
     "execution_count": 310,
     "metadata": {},
     "output_type": "execute_result"
    }
   ],
   "source": [
    "top_team = {}\n",
    "clash_team = []\n",
    "unmatched_grads = []\n",
    "for grad in grad_preferences:\n",
    "    top_team[grad]=grad_preferences[grad][0]\n",
    "top_team\n"
   ]
  },
  {
   "cell_type": "code",
   "execution_count": 311,
   "metadata": {},
   "outputs": [
    {
     "name": "stdout",
     "output_type": "stream",
     "text": [
      "Danyal Schofield\n",
      "Annabella Crawford\n",
      "Caitlin Browning\n",
      "Everly Holman\n",
      "Lauren Chang\n"
     ]
    }
   ],
   "source": [
    "for team in teamList:\n",
    "    clash = [k for k,v in top_team.items() if v == team]\n",
    "    if len(clash) != 1:\n",
    "        for i in clash:\n",
    "            print(i)\n",
    "            unmatched_grads.append(i)\n",
    "            unmatched_team = top_team.pop(i, None)\n",
    "            if unmatched_team not in clash_team:\n",
    "                clash_team.append(unmatched_team)\n",
    "    "
   ]
  },
  {
   "cell_type": "code",
   "execution_count": 312,
   "metadata": {},
   "outputs": [
    {
     "data": {
      "text/plain": [
       "32"
      ]
     },
     "execution_count": 312,
     "metadata": {},
     "output_type": "execute_result"
    }
   ],
   "source": [
    "len(top_team)"
   ]
  },
  {
   "cell_type": "code",
   "execution_count": 313,
   "metadata": {},
   "outputs": [
    {
     "data": {
      "text/plain": [
       "['Stategic Analytics', 'GTB Instant Payments']"
      ]
     },
     "execution_count": 313,
     "metadata": {},
     "output_type": "execute_result"
    }
   ],
   "source": [
    "clash_team"
   ]
  },
  {
   "cell_type": "code",
   "execution_count": 314,
   "metadata": {},
   "outputs": [
    {
     "data": {
      "text/plain": [
       "['Danyal Schofield',\n",
       " 'Annabella Crawford',\n",
       " 'Caitlin Browning',\n",
       " 'Everly Holman',\n",
       " 'Lauren Chang']"
      ]
     },
     "execution_count": 314,
     "metadata": {},
     "output_type": "execute_result"
    }
   ],
   "source": [
    "unmatched_grads"
   ]
  },
  {
   "cell_type": "code",
   "execution_count": 316,
   "metadata": {},
   "outputs": [
    {
     "name": "stdout",
     "output_type": "stream",
     "text": [
      "['Tristan Hanna', 'Alex Hulme', 'Vishal Logan', 'Willem Mcgill', nan]\n",
      "[nan, nan, nan, nan, nan]\n"
     ]
    }
   ],
   "source": [
    "for i in clash_team:\n",
    "    print (team_preferences[i])"
   ]
  },
  {
   "cell_type": "code",
   "execution_count": null,
   "metadata": {},
   "outputs": [],
   "source": []
  }
 ],
 "metadata": {
  "kernelspec": {
   "display_name": "Python 3",
   "language": "python",
   "name": "python3"
  },
  "language_info": {
   "codemirror_mode": {
    "name": "ipython",
    "version": 3
   },
   "file_extension": ".py",
   "mimetype": "text/x-python",
   "name": "python",
   "nbconvert_exporter": "python",
   "pygments_lexer": "ipython3",
   "version": "3.7.3"
  }
 },
 "nbformat": 4,
 "nbformat_minor": 2
}
